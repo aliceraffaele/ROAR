{
  "nbformat": 4,
  "nbformat_minor": 0,
  "metadata": {
    "colab": {
      "provenance": []
    },
    "kernelspec": {
      "name": "python3",
      "display_name": "Python 3"
    },
    "language_info": {
      "name": "python"
    }
  },
  "cells": [
    {
      "cell_type": "markdown",
      "source": [
        "# **INTRODUCTION TO PYTHON BASIC NOTIONS**"
      ],
      "metadata": {
        "id": "vsaiYOdu-n1y"
      }
    },
    {
      "cell_type": "markdown",
      "source": [
        "**DYNAMIC TYPING OF VARIABLES**\n",
        "\n",
        "In Python, it is sufficient to assign data to a variable without specifying its type, because this will be recognized automatically."
      ],
      "metadata": {
        "id": "_5piq8xL96Eh"
      }
    },
    {
      "cell_type": "code",
      "execution_count": null,
      "metadata": {
        "id": "JxRGfur99WbK"
      },
      "outputs": [],
      "source": [
        "x1 = 2\n",
        "x2 = 'Hello'\n",
        "x3 = 3.4"
      ]
    },
    {
      "cell_type": "markdown",
      "source": [
        "x1 is an **integer**, x2 is a **string**, x3 is a **float** (decimal number)\n",
        "print(x2 + x1) would give an error:"
      ],
      "metadata": {
        "id": "X9XrIfJ5-OOD"
      }
    },
    {
      "cell_type": "code",
      "source": [
        "print(x2 + x1)"
      ],
      "metadata": {
        "id": "Biqn4eoI92TT"
      },
      "execution_count": null,
      "outputs": []
    },
    {
      "cell_type": "markdown",
      "source": [
        "The correct way to do this is as follows:"
      ],
      "metadata": {
        "id": "zVg4Vm8j-hR5"
      }
    },
    {
      "cell_type": "code",
      "source": [
        "print(x2 + ' ' + str(x1))"
      ],
      "metadata": {
        "id": "nzCmvF5q-gtm"
      },
      "execution_count": null,
      "outputs": []
    },
    {
      "cell_type": "markdown",
      "source": [
        "## **CYCLES**\n",
        "\n",
        "**THE FOR CYCLE**\n",
        "\n",
        "Syntax:\n",
        "\n",
        "for i in S:\n",
        "> operations\n",
        "\n",
        "For each element i of a certain set S, it performs some operations...\n",
        "\n",
        "*Example with the range function*\n",
        "\n",
        "Suppose you want to print all numbers up to 10."
      ],
      "metadata": {
        "id": "nZb_3Wo9--5B"
      }
    },
    {
      "cell_type": "code",
      "source": [
        "N = 10\n",
        "for i in range(N+1):\n",
        "  print(str(i))"
      ],
      "metadata": {
        "id": "CqQetBMF-dtG"
      },
      "execution_count": null,
      "outputs": []
    },
    {
      "cell_type": "markdown",
      "source": [
        "The range function can receive one or two **parameters**:\n",
        "\n",
        "* if it receives only one parameter, as in range(N+1), then the returned set will be the entire range [0, N+1) = [0, N]\n",
        "* if it receives two parameters, as in range(a, b), then the returned set will be the entire range [a, b) = [a, b-1]\n",
        "\n",
        "*Example with a = 2 and b = 5*"
      ],
      "metadata": {
        "id": "ofiS7E_N_2Xl"
      }
    },
    {
      "cell_type": "code",
      "source": [
        "a = 2\n",
        "b = 5\n",
        "for i in range(a, b):\n",
        "  print(str(i))"
      ],
      "metadata": {
        "id": "rO9G4Wqf_5we"
      },
      "execution_count": null,
      "outputs": []
    },
    {
      "cell_type": "markdown",
      "source": [
        "**THE WHILE CYCLE**\n",
        "\n",
        "Syntax:\n",
        "\n",
        "while condition:\n",
        "> operations\n",
        "\n",
        "Until a certain condition occurs, some operations are performed repeatedly...\n",
        "\n",
        "*Example similar to the one seen with the for loop*\n",
        "\n",
        "Suppose you want to print all numbers up to 10."
      ],
      "metadata": {
        "id": "uYu_eQP8o282"
      }
    },
    {
      "cell_type": "code",
      "source": [
        "i = 0\n",
        "while i < 11:\n",
        "    print(str(i))\n",
        "    i += 1 # i = i + 1"
      ],
      "metadata": {
        "id": "NBJLL2i__0Xu"
      },
      "execution_count": null,
      "outputs": []
    },
    {
      "cell_type": "markdown",
      "source": [
        "What if the instructions were reversed?"
      ],
      "metadata": {
        "id": "Q4Cb1h8updWc"
      }
    },
    {
      "cell_type": "code",
      "source": [
        "i = 0\n",
        "while i < 11:\n",
        "    i += 1 # i = i + 1\n",
        "    print(str(i))"
      ],
      "metadata": {
        "id": "9fMYhqxLpXi0"
      },
      "execution_count": null,
      "outputs": []
    },
    {
      "cell_type": "markdown",
      "source": [
        "The number 11 would also be printed because the condition check\n",
        "\n",
        "```\n",
        "while i < 11:\n",
        "```\n",
        "\n",
        "\n",
        "would happen **after** the command\n",
        "\n",
        "```\n",
        "print(str(i))\n",
        "```\n",
        "\n",
        "**NB**: pay attention to the order of the instructions!"
      ],
      "metadata": {
        "id": "Lu7vWGSCpkHd"
      }
    },
    {
      "cell_type": "markdown",
      "source": [
        "**CONCATENATION OF STRINGS AND OTHER OBJECTS**"
      ],
      "metadata": {
        "id": "5ATAvhCTp6Ot"
      }
    },
    {
      "cell_type": "code",
      "source": [
        "s1 = 'Hello'\n",
        "s2 = 'world'\n",
        "# Mode 1\n",
        "print(s1 + ' ' + s2)"
      ],
      "metadata": {
        "id": "nzDM6pvCphtA"
      },
      "execution_count": null,
      "outputs": []
    },
    {
      "cell_type": "code",
      "source": [
        "# Mode 2\n",
        "print('{} {}'.format(s1, s2))"
      ],
      "metadata": {
        "id": "NUBVYALDqIk6"
      },
      "execution_count": null,
      "outputs": []
    },
    {
      "cell_type": "markdown",
      "source": [
        "This other way is more convenient when there are objects other than strings that need to be printed.\n",
        "\n",
        "*Example*:"
      ],
      "metadata": {
        "id": "CmQb7eoOqYgy"
      }
    },
    {
      "cell_type": "code",
      "source": [
        "pi = 3.14\n",
        "# Mode 1\n",
        "print(s1 + ' ' + str(pi))\n",
        "# Mode 2\n",
        "print('{} {}'.format(s1, pi))\n"
      ],
      "metadata": {
        "id": "UAsOeEutqMuU"
      },
      "execution_count": null,
      "outputs": []
    },
    {
      "cell_type": "markdown",
      "source": [
        "**LISTS**"
      ],
      "metadata": {
        "id": "u_rHkP3KqyVO"
      }
    },
    {
      "cell_type": "code",
      "source": [
        "# Mode 1 to define a list: indicating all its elements\n",
        "list1 = [1, 2, 3, 4, 5, 6, 7, 8, 9, 10]"
      ],
      "metadata": {
        "id": "xUCLAB4kqsxS"
      },
      "execution_count": 1,
      "outputs": []
    },
    {
      "cell_type": "code",
      "source": [
        "# Mode 2 to define a list: from empty, adding elements\n",
        "list2 = []\n",
        "N = 13\n",
        "for x in range(1,N+1):\n",
        "  list2.append(x) # or: list2 += [x]\n",
        "print(list2)"
      ],
      "metadata": {
        "id": "Cq4Fibp1rLCt"
      },
      "execution_count": null,
      "outputs": []
    },
    {
      "cell_type": "code",
      "source": [
        "# Mode 2 (more compact) to define a list: by exploiting a for loop\n",
        "list2 = [x for x in range(1,N+1)]\n",
        "print(list2)"
      ],
      "metadata": {
        "id": "dltfLB2yrX_X"
      },
      "execution_count": null,
      "outputs": []
    },
    {
      "cell_type": "markdown",
      "source": [
        "**OPERATIONS WITH LISTS**"
      ],
      "metadata": {
        "id": "mdFOs2KLrwe9"
      }
    },
    {
      "cell_type": "code",
      "source": [
        "# Length\n",
        "print('list1 contains ' + str(len(list1)) + ' elements')"
      ],
      "metadata": {
        "id": "diEokqIQrhQo"
      },
      "execution_count": null,
      "outputs": []
    },
    {
      "cell_type": "code",
      "source": [
        "# Concatenation of two lists\n",
        "list3 = list1 + list2\n",
        "print(list3)"
      ],
      "metadata": {
        "id": "U1Q5UrVlr-H4"
      },
      "execution_count": null,
      "outputs": []
    },
    {
      "cell_type": "code",
      "source": [
        "# Union of two lists by removing the repeating elements -> Set\n",
        "set1 = set(list1 + list2)\n",
        "print(set1)"
      ],
      "metadata": {
        "id": "RPmeG2pesDY8"
      },
      "execution_count": null,
      "outputs": []
    },
    {
      "cell_type": "code",
      "source": [
        "# Repetition\n",
        "list4 = ['Hello!']*4\n",
        "print(list4)"
      ],
      "metadata": {
        "id": "zKNaMwLDsarC"
      },
      "execution_count": null,
      "outputs": []
    },
    {
      "cell_type": "code",
      "source": [
        "# Membership (or not) of an element in a list\n",
        "print(3 in list3)\n",
        "print(100 in list3)\n",
        "print(100 not in list3)"
      ],
      "metadata": {
        "id": "cRCkOQGEsxw1"
      },
      "execution_count": null,
      "outputs": []
    },
    {
      "cell_type": "code",
      "source": [
        "# Iterating over the elements of a list\n",
        "for x in list2:\n",
        "   print('The square of {} is {}'.format(x, pow(x,2)))"
      ],
      "metadata": {
        "id": "saxWGdvbtMn0"
      },
      "execution_count": null,
      "outputs": []
    },
    {
      "cell_type": "code",
      "source": [
        "# Indexing\n",
        "L = [10, 3, 5, 6, 22, 18, 90]\n",
        "print('The third element of list L is ' + str(L[2])) # Indexing starts from 0 and not from 1\n",
        "print('The last element of list L is ' + str(L[len(L)-1])) # The last element has index len(L)-1, not just len(L)!"
      ],
      "metadata": {
        "id": "-u8HSzmutXd4"
      },
      "execution_count": null,
      "outputs": []
    },
    {
      "cell_type": "code",
      "source": [
        "print('Length of list L = {}'.format(len(L)))\n",
        "print(L (len(L)))"
      ],
      "metadata": {
        "id": "cDRhcFAeuJQa"
      },
      "execution_count": null,
      "outputs": []
    },
    {
      "cell_type": "code",
      "source": [
        "# Indexing with negative numbers, counting from the right\n",
        "print('The last element of list L is ' + str(L[-1]))"
      ],
      "metadata": {
        "id": "NYy1a38KuiHK"
      },
      "execution_count": null,
      "outputs": []
    },
    {
      "cell_type": "code",
      "source": [
        "# Pieces of list\n",
        "print(L[2:5]) # Print elements in positions 2, 3 and 4 (excluding 5)"
      ],
      "metadata": {
        "id": "-oTuDBN_uzU-"
      },
      "execution_count": null,
      "outputs": []
    },
    {
      "cell_type": "code",
      "source": [
        "# Updating an element of a list\n",
        "L[2] = 33\n",
        "print(L)"
      ],
      "metadata": {
        "id": "zxhXMWu0vMH8"
      },
      "execution_count": null,
      "outputs": []
    },
    {
      "cell_type": "markdown",
      "source": [
        "**TUPLE (read-only lists)**\n",
        "\n",
        "They differ from lists because the elements of a tuple are enclosed in two parentheses and cannot be updated"
      ],
      "metadata": {
        "id": "DfGmjGvHvD1J"
      }
    },
    {
      "cell_type": "code",
      "source": [
        "tuple1 = (1, 2, 3)\n",
        "print(tuple1)"
      ],
      "metadata": {
        "id": "miE-jJHuu2bz"
      },
      "execution_count": null,
      "outputs": []
    },
    {
      "cell_type": "code",
      "source": [
        "tuple1[2] = 33"
      ],
      "metadata": {
        "id": "XabUs2SsvUM8"
      },
      "execution_count": null,
      "outputs": []
    },
    {
      "cell_type": "markdown",
      "source": [
        "**MATRICES**"
      ],
      "metadata": {
        "id": "zVbTZqTrvY_8"
      }
    },
    {
      "cell_type": "code",
      "source": [
        "# a is a 2-D matrix\n",
        "a = [['Roy',80,75,85,90,95],\n",
        "      ['John',75,80,75,85,100],\n",
        "      ['Dave',80,80,80,90,95]]\n",
        "print(a)"
      ],
      "metadata": {
        "id": "4NNcV9IrvXY3"
      },
      "execution_count": null,
      "outputs": []
    },
    {
      "cell_type": "code",
      "source": [
        "# b is a nested list, but not an array: why?\n",
        "b= [['Roy',80,75,85,90,95],\n",
        "     ['John',75,80,75],\n",
        "     ['Dave',80,80,80,90,95]]\n",
        "print(b)"
      ],
      "metadata": {
        "id": "zeLW7-LHvc3R"
      },
      "execution_count": null,
      "outputs": []
    },
    {
      "cell_type": "code",
      "source": [
        "# One of several ways to define an array\n",
        "num_rows = 5\n",
        "num_columns = 4\n",
        "m_row = [x for x in range(1, num_columns+1)]\n",
        "m1 = []\n",
        "for i in range(num_rows):\n",
        "     m1 += [[x+i for x in m_row]]\n",
        "print(\"m1 = \" + str(m1))"
      ],
      "metadata": {
        "id": "Kh-V_UjSvhJ9"
      },
      "execution_count": null,
      "outputs": []
    },
    {
      "cell_type": "code",
      "source": [
        "# Another way\n",
        "m = [[0 for y in range(num_columns)] for x in range(num_rows)]\n",
        "print(m)\n",
        "\n",
        "# Adding [1,2,3,4,5] to m using the += operator\n",
        "m += [[1,2,3,4,5]]\n",
        "print(m)\n",
        "print('\\n')\n",
        "\n",
        "# Print m using a for loop for better visualization\n",
        "for i in range(len(m)):\n",
        "     print(m[i])"
      ],
      "metadata": {
        "id": "k3d8oyMOxD0w"
      },
      "execution_count": null,
      "outputs": []
    },
    {
      "cell_type": "code",
      "source": [
        "# Removing the last line added to m with the del operator\n",
        "del m[len(m)-1]\n",
        "print(m)"
      ],
      "metadata": {
        "id": "clPeEAjJxd1C"
      },
      "execution_count": null,
      "outputs": []
    },
    {
      "cell_type": "markdown",
      "source": [
        "**FUNCTIONS**\n",
        "\n",
        "They are procedures that are defined before being called and which can receive parameters to use. Generally, a function can also return one or more results (but this is not mandatory)."
      ],
      "metadata": {
        "id": "xZoCzqihRckp"
      }
    },
    {
      "cell_type": "code",
      "source": [
        "def fun1(p1, p2):\n",
        "    return p1 + 2*p2\n",
        "\n",
        "p1 = 5\n",
        "p2 = 3\n",
        "p3 = fun1(p1, p2)\n",
        "print('p3 = ' + str(p3))"
      ],
      "metadata": {
        "id": "eSJvMjhzyO_9"
      },
      "execution_count": null,
      "outputs": []
    },
    {
      "cell_type": "markdown",
      "source": [
        "**NB**: the passing of parameters is done *by reference* and not by value."
      ],
      "metadata": {
        "id": "QL1OOqugUoGt"
      }
    },
    {
      "cell_type": "code",
      "source": [
        "def fun2(a, b):\n",
        "   a = 2*a\n",
        "   b = int(b/2)\n",
        "   return a + b\n",
        "\n",
        "a = 3\n",
        "b = 5\n",
        "print('Result of fun2 = {}'.format(fun2(a,b)))\n",
        "print('After fun2, a = {} and b = {}'.format(a,b))"
      ],
      "metadata": {
        "id": "XZPr6SW9fxVX"
      },
      "execution_count": null,
      "outputs": []
    },
    {
      "cell_type": "markdown",
      "source": [
        "But be careful when passing objects like lists!"
      ],
      "metadata": {
        "id": "vYcOvYTxgSJf"
      }
    },
    {
      "cell_type": "code",
      "source": [
        "def fun3(c, d, l):\n",
        "   l += [c*d, int(c/d), round(c/d, 2)]\n",
        "   return l\n",
        "\n",
        "l = [2, 4, 6]\n",
        "print('List l before fun2 = ' + str(l))\n",
        "c = 10\n",
        "d = 3\n",
        "fun3(c, d, l)\n",
        "print('List l after fun2 = ' + str(l))"
      ],
      "metadata": {
        "id": "TX98FMgNUEa5"
      },
      "execution_count": null,
      "outputs": []
    },
    {
      "cell_type": "code",
      "source": [],
      "metadata": {
        "id": "VJ6HBJnFUhjW"
      },
      "execution_count": null,
      "outputs": []
    }
  ]
}