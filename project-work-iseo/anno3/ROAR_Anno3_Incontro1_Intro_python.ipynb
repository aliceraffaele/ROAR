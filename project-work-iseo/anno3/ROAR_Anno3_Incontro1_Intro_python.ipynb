{
  "nbformat": 4,
  "nbformat_minor": 0,
  "metadata": {
    "colab": {
      "provenance": []
    },
    "kernelspec": {
      "name": "python3",
      "display_name": "Python 3"
    },
    "language_info": {
      "name": "python"
    }
  },
  "cells": [
    {
      "cell_type": "markdown",
      "source": [
        "# **INTRODUZIONE ALLE NOZIONI BASE DI PYTHON**"
      ],
      "metadata": {
        "id": "vsaiYOdu-n1y"
      }
    },
    {
      "cell_type": "markdown",
      "source": [
        "**TIPIZZAZIONE DINAMICA DELLE VARIABILI**\n",
        "\n",
        "In Python è sufficiente assegnare un dato a una variabile senza specificarne il tipo, perché verrà riconosciuto in automatico."
      ],
      "metadata": {
        "id": "_5piq8xL96Eh"
      }
    },
    {
      "cell_type": "code",
      "execution_count": null,
      "metadata": {
        "id": "JxRGfur99WbK"
      },
      "outputs": [],
      "source": [
        "x1 = 2\n",
        "x2 = 'Ciao'\n",
        "x3 = 3.4"
      ]
    },
    {
      "cell_type": "markdown",
      "source": [
        "x1 è un **intero**, x2 è una **stringa**, x3 è un **float** (numero decimale)\n",
        "print(x2 + x1) darebbe un errore:"
      ],
      "metadata": {
        "id": "X9XrIfJ5-OOD"
      }
    },
    {
      "cell_type": "code",
      "source": [
        "print(x2 + x1)"
      ],
      "metadata": {
        "id": "Biqn4eoI92TT",
        "colab": {
          "base_uri": "https://localhost:8080/",
          "height": 167
        },
        "outputId": "86445e6c-6721-4616-e93f-9f9002faed26"
      },
      "execution_count": null,
      "outputs": [
        {
          "output_type": "error",
          "ename": "TypeError",
          "evalue": "ignored",
          "traceback": [
            "\u001b[0;31m---------------------------------------------------------------------------\u001b[0m",
            "\u001b[0;31mTypeError\u001b[0m                                 Traceback (most recent call last)",
            "\u001b[0;32m<ipython-input-3-260406da17e7>\u001b[0m in \u001b[0;36m<module>\u001b[0;34m\u001b[0m\n\u001b[0;32m----> 1\u001b[0;31m \u001b[0mprint\u001b[0m\u001b[0;34m(\u001b[0m\u001b[0mx2\u001b[0m \u001b[0;34m+\u001b[0m \u001b[0mx1\u001b[0m\u001b[0;34m)\u001b[0m\u001b[0;34m\u001b[0m\u001b[0;34m\u001b[0m\u001b[0m\n\u001b[0m",
            "\u001b[0;31mTypeError\u001b[0m: can only concatenate str (not \"int\") to str"
          ]
        }
      ]
    },
    {
      "cell_type": "markdown",
      "source": [
        "Il modo corretto di farlo è il seguente:"
      ],
      "metadata": {
        "id": "zVg4Vm8j-hR5"
      }
    },
    {
      "cell_type": "code",
      "source": [
        "print(x2 + \" X\" + str(x1) + '!')"
      ],
      "metadata": {
        "id": "nzCmvF5q-gtm",
        "colab": {
          "base_uri": "https://localhost:8080/"
        },
        "outputId": "0d4ecc9f-6d5b-4377-a158-e87b642d69e3"
      },
      "execution_count": null,
      "outputs": [
        {
          "output_type": "stream",
          "name": "stdout",
          "text": [
            "Ciao X2!\n"
          ]
        }
      ]
    },
    {
      "cell_type": "markdown",
      "source": [
        "## **CICLI**\n",
        "\n",
        "**IL CICLO FOR**\n",
        "\n",
        "Sintassi:\n",
        "\n",
        "for i in S:\n",
        "> operazioni\n",
        "\n",
        "Per ogni elemento i di un certo insieme S, compie alcune operazioni...\n",
        "\n",
        "*Esempio con la funzione range (intervallo)*\n",
        "\n",
        "Si supponga di voler stampare tutti i numeri fino a 10.\n",
        "\n"
      ],
      "metadata": {
        "id": "nZb_3Wo9--5B"
      }
    },
    {
      "cell_type": "code",
      "source": [
        "N = 10\n",
        "S = [0, 1, 2, 3, 4, 5, 6, 7, 8, 9, 10] # range(N+1) == S\n",
        "S2 = [x for x in range(N+1)]\n",
        "print(S2)\n",
        "#for i in range(N+1):\n",
        "#  print(str(i))\n",
        "\n",
        "for i in S:\n",
        "  print(str(i))"
      ],
      "metadata": {
        "id": "CqQetBMF-dtG",
        "colab": {
          "base_uri": "https://localhost:8080/"
        },
        "outputId": "3d54a3b6-d54e-478b-aa35-2b4135e73050"
      },
      "execution_count": null,
      "outputs": [
        {
          "output_type": "stream",
          "name": "stdout",
          "text": [
            "[0, 1, 2, 3, 4, 5, 6, 7, 8, 9, 10]\n",
            "0\n",
            "1\n",
            "2\n",
            "3\n",
            "4\n",
            "5\n",
            "6\n",
            "7\n",
            "8\n",
            "9\n",
            "10\n"
          ]
        }
      ]
    },
    {
      "cell_type": "markdown",
      "source": [
        "La funzione range può ricevere uno o due **parametri**:\n",
        "\n",
        "\n",
        "*   se ne riceve uno, come in range(N+1), allora l'insieme che ritornerà sarà tutto l'intervallo [0, N+1) = [0, N]\n",
        "*   se ne riceve due, come in range(a, b), allora l'insieme che ritornerà sarà tutto l'intervallo [a, b) = [a, b-1]\n",
        "\n",
        "*Esempio con a = 2 e b = 5*"
      ],
      "metadata": {
        "id": "ofiS7E_N_2Xl"
      }
    },
    {
      "cell_type": "code",
      "source": [
        "a = 2\n",
        "b = 5\n",
        "for i in range(a, b):\n",
        "  print(str(i))"
      ],
      "metadata": {
        "id": "rO9G4Wqf_5we",
        "colab": {
          "base_uri": "https://localhost:8080/"
        },
        "outputId": "ab259bb0-aacf-4908-b1fd-0cfb3ba5a6ca"
      },
      "execution_count": null,
      "outputs": [
        {
          "output_type": "stream",
          "name": "stdout",
          "text": [
            "2\n",
            "3\n",
            "4\n"
          ]
        }
      ]
    },
    {
      "cell_type": "markdown",
      "source": [
        "**IL CICLO WHILE**\n",
        "\n",
        "Sintassi:\n",
        "\n",
        "while condizione:\n",
        "> operazioni\n",
        "\n",
        "Finché non si verifica una certa condizione, vengono eseguite ripetutamente alcune operazioni...\n",
        "\n",
        "*Esempio analogo a quello visto con il ciclo for*\n",
        "\n",
        "Si supponga di voler stampare tutti i numeri fino a 10.\n",
        "\n"
      ],
      "metadata": {
        "id": "uYu_eQP8o282"
      }
    },
    {
      "cell_type": "code",
      "source": [
        "j = 0\n",
        "while j < 11:\n",
        "    print(str(j))\n",
        "    j += 1 # j = j + 1"
      ],
      "metadata": {
        "id": "NBJLL2i__0Xu",
        "colab": {
          "base_uri": "https://localhost:8080/"
        },
        "outputId": "4d586bb4-f168-48ea-ca3b-f29793f57143"
      },
      "execution_count": null,
      "outputs": [
        {
          "output_type": "stream",
          "name": "stdout",
          "text": [
            "0\n",
            "1\n",
            "2\n",
            "3\n",
            "4\n",
            "5\n",
            "6\n",
            "7\n",
            "8\n",
            "9\n",
            "10\n"
          ]
        }
      ]
    },
    {
      "cell_type": "markdown",
      "source": [
        "E se le istruzioni fossero invertite?"
      ],
      "metadata": {
        "id": "Q4Cb1h8updWc"
      }
    },
    {
      "cell_type": "code",
      "source": [
        "i = 0\n",
        "while i < 11:\n",
        "    i += 1 # i = i + 1\n",
        "    print(str(i))"
      ],
      "metadata": {
        "id": "9fMYhqxLpXi0",
        "colab": {
          "base_uri": "https://localhost:8080/"
        },
        "outputId": "c41f1b44-4adf-4061-c021-240290cfc4cc"
      },
      "execution_count": null,
      "outputs": [
        {
          "output_type": "stream",
          "name": "stdout",
          "text": [
            "1\n",
            "2\n",
            "3\n",
            "4\n",
            "5\n",
            "6\n",
            "7\n",
            "8\n",
            "9\n",
            "10\n",
            "11\n"
          ]
        }
      ]
    },
    {
      "cell_type": "markdown",
      "source": [
        "Sarebbe stampato anche il numero 11 perché il controllo della condizione\n",
        "\n",
        "```\n",
        "while i < 11:\n",
        "```\n",
        "\n",
        "\n",
        "avverrebbe **dopo** il comando \n",
        "\n",
        "```\n",
        "print(str(i))\n",
        "```\n",
        "\n",
        "**NB**: attenzione all'ordine delle istruzioni!"
      ],
      "metadata": {
        "id": "Lu7vWGSCpkHd"
      }
    },
    {
      "cell_type": "markdown",
      "source": [
        "**CONCATENAZIONE DI STRINGHE E ALTRI OGGETTI**"
      ],
      "metadata": {
        "id": "5ATAvhCTp6Ot"
      }
    },
    {
      "cell_type": "code",
      "source": [
        "s1 = 'Hello'\n",
        "s2 = 'world'\n",
        "# Modo 1\n",
        "print(s1 + ' ' + s2)"
      ],
      "metadata": {
        "id": "nzDM6pvCphtA",
        "colab": {
          "base_uri": "https://localhost:8080/"
        },
        "outputId": "a1756c1e-9e44-4fbf-a42d-f30a25cf85ca"
      },
      "execution_count": null,
      "outputs": [
        {
          "output_type": "stream",
          "name": "stdout",
          "text": [
            "Hello world\n"
          ]
        }
      ]
    },
    {
      "cell_type": "code",
      "source": [
        "# Modo 2\n",
        "y = 45\n",
        "print('{} {}\\n{}'.format(s1, s2, y))"
      ],
      "metadata": {
        "id": "NUBVYALDqIk6",
        "colab": {
          "base_uri": "https://localhost:8080/"
        },
        "outputId": "3cdfcd5d-959f-4bac-bf8e-dad476c15dbe"
      },
      "execution_count": null,
      "outputs": [
        {
          "output_type": "stream",
          "name": "stdout",
          "text": [
            "Hello world\n",
            "45\n"
          ]
        }
      ]
    },
    {
      "cell_type": "markdown",
      "source": [
        "Quest'altro modo è più comodo quando ci sono oggetti diversi dalle stringhe che devono essere stampati.\n",
        "\n",
        "*Esempio*:"
      ],
      "metadata": {
        "id": "CmQb7eoOqYgy"
      }
    },
    {
      "cell_type": "code",
      "source": [
        "pi = 3.14\n",
        "# Modo 1\n",
        "print(s1 + ' ' + str(pi))\n",
        "pi_str = '3.14'\n",
        "# Modo 2\n",
        "print('{} {}'.format(s1, pi_str))\n"
      ],
      "metadata": {
        "id": "UAsOeEutqMuU",
        "colab": {
          "base_uri": "https://localhost:8080/"
        },
        "outputId": "eca49d9b-06e6-4d85-b96c-84ecb4f000ba"
      },
      "execution_count": null,
      "outputs": [
        {
          "output_type": "stream",
          "name": "stdout",
          "text": [
            "Hello 3.14\n",
            "Hello 3.14\n"
          ]
        }
      ]
    },
    {
      "cell_type": "markdown",
      "source": [
        "**LISTE**"
      ],
      "metadata": {
        "id": "u_rHkP3KqyVO"
      }
    },
    {
      "cell_type": "code",
      "source": [
        "# Modo 1 per definire una lista: indicandone tutti gli elementi\n",
        "lista1 = [1, 2, 3, 4, 5, 6, 7, 8, 9, 10]"
      ],
      "metadata": {
        "id": "xUCLAB4kqsxS"
      },
      "execution_count": null,
      "outputs": []
    },
    {
      "cell_type": "code",
      "source": [
        "# Modo 2 per definire una lista: da vuota, aggiungendo elementi\n",
        "lista2 = []\n",
        "N = 13\n",
        "for elem in range(1,N+1):\n",
        "  #lista2.append(elem) # oppure: \n",
        "  lista2 += [elem]\n",
        "print(lista2)"
      ],
      "metadata": {
        "id": "Cq4Fibp1rLCt",
        "colab": {
          "base_uri": "https://localhost:8080/"
        },
        "outputId": "06337519-f18e-43f4-8a50-429ee378d72e"
      },
      "execution_count": null,
      "outputs": [
        {
          "output_type": "stream",
          "name": "stdout",
          "text": [
            "[1, 2, 3, 4, 5, 6, 7, 8, 9, 10, 11, 12, 13]\n"
          ]
        }
      ]
    },
    {
      "cell_type": "code",
      "source": [
        "# Modo 2 più compatto sfruttando, sfruttando un ciclo for\n",
        "lista2 = [x for x in range(1,N+1)]\n",
        "print(lista2)"
      ],
      "metadata": {
        "id": "dltfLB2yrX_X",
        "colab": {
          "base_uri": "https://localhost:8080/"
        },
        "outputId": "ec2d9f33-cfe6-4557-ac3a-79436b6c3269"
      },
      "execution_count": null,
      "outputs": [
        {
          "output_type": "stream",
          "name": "stdout",
          "text": [
            "[1, 2, 3, 4, 5, 6, 7, 8, 9, 10, 11, 12, 13]\n"
          ]
        }
      ]
    },
    {
      "cell_type": "markdown",
      "source": [
        "**OPERAZIONI CON LE LISTE**"
      ],
      "metadata": {
        "id": "mdFOs2KLrwe9"
      }
    },
    {
      "cell_type": "code",
      "source": [
        "# Lunghezza\n",
        "len(lista1)\n",
        "print('lista1 contiene ' + str(len(lista1)) + ' elementi')\n",
        "print('lista1 contiene {} elementi'.format(len(lista1)))"
      ],
      "metadata": {
        "id": "diEokqIQrhQo",
        "colab": {
          "base_uri": "https://localhost:8080/"
        },
        "outputId": "5b667d8d-3951-4830-f7be-21475c243f7d"
      },
      "execution_count": null,
      "outputs": [
        {
          "output_type": "stream",
          "name": "stdout",
          "text": [
            "lista1 contiene 10 elementi\n",
            "lista1 contiene 10 elementi\n"
          ]
        }
      ]
    },
    {
      "cell_type": "code",
      "source": [
        "# Concatenazione di due liste\n",
        "lista3 = lista1 + lista2\n",
        "print(lista3)"
      ],
      "metadata": {
        "id": "U1Q5UrVlr-H4",
        "colab": {
          "base_uri": "https://localhost:8080/"
        },
        "outputId": "a98edbb6-16aa-400d-bcf6-628bc14df358"
      },
      "execution_count": null,
      "outputs": [
        {
          "output_type": "stream",
          "name": "stdout",
          "text": [
            "[1, 2, 3, 4, 5, 6, 7, 8, 9, 10, 1, 2, 3, 4, 5, 6, 7, 8, 9, 10, 11, 12, 13]\n"
          ]
        }
      ]
    },
    {
      "cell_type": "code",
      "source": [
        "# Unione di due liste togliendo gli elementi che si ripetono -> Set\n",
        "set1 = set(lista1 + lista2)\n",
        "print(set1)"
      ],
      "metadata": {
        "id": "RPmeG2pesDY8",
        "colab": {
          "base_uri": "https://localhost:8080/"
        },
        "outputId": "310ec774-122e-4702-8cc5-b55f88888e61"
      },
      "execution_count": null,
      "outputs": [
        {
          "output_type": "stream",
          "name": "stdout",
          "text": [
            "{1, 2, 3, 4, 5, 6, 7, 8, 9, 10, 11, 12, 13}\n"
          ]
        }
      ]
    },
    {
      "cell_type": "code",
      "source": [
        "# Ripetizione\n",
        "lista4 = ['Ciao!']*4\n",
        "print(lista4)"
      ],
      "metadata": {
        "id": "zKNaMwLDsarC",
        "colab": {
          "base_uri": "https://localhost:8080/"
        },
        "outputId": "d334243c-77a6-46f0-f569-815fe46c10cf"
      },
      "execution_count": null,
      "outputs": [
        {
          "output_type": "stream",
          "name": "stdout",
          "text": [
            "['Ciao!', 'Ciao!', 'Ciao!', 'Ciao!']\n"
          ]
        }
      ]
    },
    {
      "cell_type": "code",
      "source": [
        "# Appartenenza (o no) di un elemento a una lista\n",
        "print(3 in lista3)\n",
        "print(100 in lista3)\n",
        "print(100 not in lista3)"
      ],
      "metadata": {
        "id": "cRCkOQGEsxw1",
        "colab": {
          "base_uri": "https://localhost:8080/"
        },
        "outputId": "83dc66dd-25fd-492d-cb5c-6f3788c14576"
      },
      "execution_count": null,
      "outputs": [
        {
          "output_type": "stream",
          "name": "stdout",
          "text": [
            "True\n",
            "False\n",
            "True\n"
          ]
        }
      ]
    },
    {
      "cell_type": "code",
      "source": [
        "# Iterazione sugli elementi di una lista\n",
        "for x in lista2:\n",
        "  print('Il quadrato di {} è {}'.format(x, pow(x,2)))"
      ],
      "metadata": {
        "id": "saxWGdvbtMn0",
        "colab": {
          "base_uri": "https://localhost:8080/"
        },
        "outputId": "76caa5c1-6c1f-470d-d860-bbb1714980ff"
      },
      "execution_count": null,
      "outputs": [
        {
          "output_type": "stream",
          "name": "stdout",
          "text": [
            "Il quadrato di 1 è 1\n",
            "Il quadrato di 2 è 4\n",
            "Il quadrato di 3 è 9\n",
            "Il quadrato di 4 è 16\n",
            "Il quadrato di 5 è 25\n",
            "Il quadrato di 6 è 36\n",
            "Il quadrato di 7 è 49\n",
            "Il quadrato di 8 è 64\n",
            "Il quadrato di 9 è 81\n",
            "Il quadrato di 10 è 100\n",
            "Il quadrato di 11 è 121\n",
            "Il quadrato di 12 è 144\n",
            "Il quadrato di 13 è 169\n"
          ]
        }
      ]
    },
    {
      "cell_type": "code",
      "source": [
        "lista_new = [2, 4, 6, 8, 10]\n",
        "lista_new[len(lista_new)-1]"
      ],
      "metadata": {
        "colab": {
          "base_uri": "https://localhost:8080/"
        },
        "id": "ePEZDU-n27-T",
        "outputId": "c64a3d21-a678-4632-9c8d-379b90b27761"
      },
      "execution_count": null,
      "outputs": [
        {
          "output_type": "execute_result",
          "data": {
            "text/plain": [
              "10"
            ]
          },
          "metadata": {},
          "execution_count": 49
        }
      ]
    },
    {
      "cell_type": "code",
      "source": [
        "# Indexing\n",
        "L = [10, 3, 5, 6, 22, 18, 90]\n",
        "print('Il terzo elemento della lista L è ' + str(L[3-1])) # L'indexing parte da 0 e non da 1\n",
        "print('L''ultimo elemento della lista L è ' + str(L[len(L)-1])) # L'ultimo elemento ha indice len(L)-1, non solo len(L)!"
      ],
      "metadata": {
        "id": "-u8HSzmutXd4",
        "colab": {
          "base_uri": "https://localhost:8080/"
        },
        "outputId": "d31fb96a-667c-419a-8d88-1d830d17863c"
      },
      "execution_count": null,
      "outputs": [
        {
          "output_type": "stream",
          "name": "stdout",
          "text": [
            "Il terzo elemento della lista L è 5\n",
            "Lultimo elemento della lista L è 90\n"
          ]
        }
      ]
    },
    {
      "cell_type": "code",
      "source": [
        "print('Lunghezza della lista L = {}'.format(len(L)))\n",
        "print(len(L))"
      ],
      "metadata": {
        "id": "cDRhcFAeuJQa",
        "colab": {
          "base_uri": "https://localhost:8080/"
        },
        "outputId": "7ebf9097-dfc7-444a-ad44-cb6997a475c3"
      },
      "execution_count": null,
      "outputs": [
        {
          "output_type": "stream",
          "name": "stdout",
          "text": [
            "Lunghezza della lista L = 7\n",
            "7\n"
          ]
        }
      ]
    },
    {
      "cell_type": "code",
      "source": [
        "# Indexing con numeri negativi, contando da destra\n",
        "L = [10, 3, 5, 6, 22, 18, 90]\n",
        "print('L''ultimo elemento della lista L è ' + str(L[-3]))"
      ],
      "metadata": {
        "id": "NYy1a38KuiHK",
        "colab": {
          "base_uri": "https://localhost:8080/"
        },
        "outputId": "eb460cd2-011e-49f2-e288-4e643e7be673"
      },
      "execution_count": null,
      "outputs": [
        {
          "output_type": "stream",
          "name": "stdout",
          "text": [
            "Lultimo elemento della lista L è 22\n"
          ]
        }
      ]
    },
    {
      "cell_type": "code",
      "source": [
        "# Pezzi di lista\n",
        "L = [10, 3, 5, 6, 22, 18, 90]\n",
        "print(L[2:5]) # Stampa gli elementi nelle posizioni 2, 3 e 4 (5 escluso)"
      ],
      "metadata": {
        "id": "-oTuDBN_uzU-",
        "colab": {
          "base_uri": "https://localhost:8080/"
        },
        "outputId": "96d7ed7b-6708-404e-cad8-89b827df4abd"
      },
      "execution_count": null,
      "outputs": [
        {
          "output_type": "stream",
          "name": "stdout",
          "text": [
            "[5, 6, 22]\n"
          ]
        }
      ]
    },
    {
      "cell_type": "code",
      "source": [
        "# Aggiornamento di un elemento di una lista\n",
        "L[2] = 33\n",
        "print(L)"
      ],
      "metadata": {
        "id": "zxhXMWu0vMH8",
        "colab": {
          "base_uri": "https://localhost:8080/"
        },
        "outputId": "16a91800-887e-4682-d005-9a42af308bf6"
      },
      "execution_count": null,
      "outputs": [
        {
          "output_type": "stream",
          "name": "stdout",
          "text": [
            "[10, 3, 33, 6, 22, 18, 90]\n"
          ]
        }
      ]
    },
    {
      "cell_type": "code",
      "source": [
        "L = [10, 3, 33, 6, 22, 18, 90]\n",
        "for i in range(len(L)):\n",
        "  L[i] = int(L[i]/2)\n",
        "\n",
        "print(L)"
      ],
      "metadata": {
        "colab": {
          "base_uri": "https://localhost:8080/"
        },
        "id": "SxFvYAqE4hrv",
        "outputId": "dcd12a40-e142-4c77-bdea-9306eb13c391"
      },
      "execution_count": null,
      "outputs": [
        {
          "output_type": "stream",
          "name": "stdout",
          "text": [
            "[5, 1, 16, 3, 11, 9, 45]\n"
          ]
        }
      ]
    },
    {
      "cell_type": "markdown",
      "source": [
        "**TUPLE (liste in sola lettura)**\n",
        "\n",
        "Differiscono dalle liste perché gli elementi di una tupla sono racchiusi tra due parentesi tonde e non possono essere aggiornati"
      ],
      "metadata": {
        "id": "DfGmjGvHvD1J"
      }
    },
    {
      "cell_type": "code",
      "source": [
        "tupla1 = (1, 2, 3)\n",
        "print(tupla1)"
      ],
      "metadata": {
        "id": "miE-jJHuu2bz",
        "colab": {
          "base_uri": "https://localhost:8080/"
        },
        "outputId": "8d51c7fb-66af-4894-9510-366c1c3dcb51"
      },
      "execution_count": null,
      "outputs": [
        {
          "output_type": "stream",
          "name": "stdout",
          "text": [
            "(1, 2, 3)\n"
          ]
        }
      ]
    },
    {
      "cell_type": "code",
      "source": [
        "tupla1[2] = 33"
      ],
      "metadata": {
        "id": "XabUs2SsvUM8",
        "colab": {
          "base_uri": "https://localhost:8080/",
          "height": 167
        },
        "outputId": "c39630b9-2b6a-47f8-d661-10952837438b"
      },
      "execution_count": null,
      "outputs": [
        {
          "output_type": "error",
          "ename": "TypeError",
          "evalue": "ignored",
          "traceback": [
            "\u001b[0;31m---------------------------------------------------------------------------\u001b[0m",
            "\u001b[0;31mTypeError\u001b[0m                                 Traceback (most recent call last)",
            "\u001b[0;32m<ipython-input-69-48ebc8caee6d>\u001b[0m in \u001b[0;36m<module>\u001b[0;34m\u001b[0m\n\u001b[0;32m----> 1\u001b[0;31m \u001b[0mtupla1\u001b[0m\u001b[0;34m[\u001b[0m\u001b[0;36m2\u001b[0m\u001b[0;34m]\u001b[0m \u001b[0;34m=\u001b[0m \u001b[0;36m33\u001b[0m\u001b[0;34m\u001b[0m\u001b[0;34m\u001b[0m\u001b[0m\n\u001b[0m",
            "\u001b[0;31mTypeError\u001b[0m: 'tuple' object does not support item assignment"
          ]
        }
      ]
    },
    {
      "cell_type": "markdown",
      "source": [
        "**MATRICI**"
      ],
      "metadata": {
        "id": "zVbTZqTrvY_8"
      }
    },
    {
      "cell_type": "code",
      "source": [
        "# a è una matrice 2-D \n",
        "a = [['Roy',80,75,85,90,95],\n",
        "     ['John',75,80,75,85,100],\n",
        "     ['Dave',80,80,80,90,95]]\n",
        "print(a)"
      ],
      "metadata": {
        "id": "4NNcV9IrvXY3",
        "colab": {
          "base_uri": "https://localhost:8080/"
        },
        "outputId": "deeeac9e-ad31-48db-fedd-7134b82cdf77"
      },
      "execution_count": null,
      "outputs": [
        {
          "output_type": "stream",
          "name": "stdout",
          "text": [
            "[['Roy', 80, 75, 85, 90, 95], ['John', 75, 80, 75, 85, 100], ['Dave', 80, 80, 80, 90, 95]]\n"
          ]
        }
      ]
    },
    {
      "cell_type": "code",
      "source": [
        "# b è una lista innestata, ma non una matrice: perché?\n",
        "b = [['Roy',80,75,85,90,95],\n",
        "    ['John',75,80,75],\n",
        "    ['Dave',80,80,80,90,95]]\n",
        "print(b)"
      ],
      "metadata": {
        "id": "zeLW7-LHvc3R",
        "colab": {
          "base_uri": "https://localhost:8080/"
        },
        "outputId": "ae6c63a1-e65a-4fdf-b9d2-5f44af54b6e0"
      },
      "execution_count": null,
      "outputs": [
        {
          "output_type": "stream",
          "name": "stdout",
          "text": [
            "[['Roy', 80, 75, 85, 90, 95], ['John', 75, 80, 75], ['Dave', 80, 80, 80, 90, 95]]\n"
          ]
        }
      ]
    },
    {
      "cell_type": "code",
      "source": [
        "# Uno dei vari modi per definire una matrice\n",
        "num_righe = 5\n",
        "num_colonne = 4\n",
        "m_riga = [x for x in range(1, num_colonne+1)]\n",
        "m1 = []\n",
        "for i in range(num_righe):\n",
        "    m1 += [[x+i for x in m_riga]]\n",
        "print(\"m1 = \" + str(m1))\n",
        "#print(m_riga)"
      ],
      "metadata": {
        "id": "Kh-V_UjSvhJ9",
        "colab": {
          "base_uri": "https://localhost:8080/"
        },
        "outputId": "04aaba4d-db46-4000-a280-2f58e8f73d34"
      },
      "execution_count": null,
      "outputs": [
        {
          "output_type": "stream",
          "name": "stdout",
          "text": [
            "m1 = [[1, 2, 3, 4], [2, 3, 4, 5], [3, 4, 5, 6], [4, 5, 6, 7], [5, 6, 7, 8]]\n"
          ]
        }
      ]
    },
    {
      "cell_type": "code",
      "source": [
        "# Un altro modo\n",
        "m = [[0 for y in range(num_colonne)] for x in range(num_righe)]\n",
        "print(m)\n",
        "\n",
        "# Aggiunta di [1,2,3,4,5] a m usando l'operatore +=\n",
        "m += [[1,2,3,4,5]]\n",
        "print(m)\n",
        "print('\\n')\n",
        "\n",
        "# Stampa di m usando un ciclo for per una migliore visualizzazione\n",
        "for i in range(len(m)):\n",
        "    print(m[i])\n",
        "\n"
      ],
      "metadata": {
        "id": "k3d8oyMOxD0w"
      },
      "execution_count": null,
      "outputs": []
    },
    {
      "cell_type": "code",
      "source": [
        "# Rimozione dell'ultima riga aggiunta a m con l'operatore del\n",
        "del m[len(m)-1]\n",
        "print(m)"
      ],
      "metadata": {
        "id": "clPeEAjJxd1C"
      },
      "execution_count": null,
      "outputs": []
    },
    {
      "cell_type": "markdown",
      "source": [
        "**FUNZIONI**\n",
        "\n",
        "Sono procedure che vengono definite prima di essere chiamate e che possono ricevere dei parametri da utilizzare. Generalmente, una funzione può anche ritornare uno o più risultati (ma non è obbligatorio)."
      ],
      "metadata": {
        "id": "xZoCzqihRckp"
      }
    },
    {
      "cell_type": "code",
      "source": [
        "def fun1(p1, p2):\n",
        "    return p1 + 2*p2\n",
        "  \n",
        "p1 = 5\n",
        "p2 = 3\n",
        "p3 = fun1(p1, p2)\n",
        "print('p3 = ' + str(p3))"
      ],
      "metadata": {
        "id": "eSJvMjhzyO_9",
        "colab": {
          "base_uri": "https://localhost:8080/"
        },
        "outputId": "2fd22ed3-4c72-4277-fed6-947cfd32a824"
      },
      "execution_count": null,
      "outputs": [
        {
          "output_type": "stream",
          "name": "stdout",
          "text": [
            "p3 = 11\n"
          ]
        }
      ]
    },
    {
      "cell_type": "markdown",
      "source": [
        "**NB**: il passaggio dei parametri è fatto *per riferimento* e non per valore."
      ],
      "metadata": {
        "id": "QL1OOqugUoGt"
      }
    },
    {
      "cell_type": "code",
      "source": [
        "def fun2(param1, param2):\n",
        "  param1 = 2*param1\n",
        "  param2 = int(param2/2)\n",
        "  return param1 + param2\n",
        "\n",
        "a = 3\n",
        "b = 5\n",
        "print('Risultato di fun2 = {}'.format(fun2(a,b)))\n",
        "print('Dopo fun2, a = {} e b = {}'.format(a,b))"
      ],
      "metadata": {
        "id": "XZPr6SW9fxVX",
        "colab": {
          "base_uri": "https://localhost:8080/"
        },
        "outputId": "521310e5-2d1b-4995-b7b2-1d639a691b2d"
      },
      "execution_count": null,
      "outputs": [
        {
          "output_type": "stream",
          "name": "stdout",
          "text": [
            "Risultato di fun2 = 8\n",
            "Dopo fun2, a = 3 e b = 5\n"
          ]
        }
      ]
    },
    {
      "cell_type": "markdown",
      "source": [
        "Ma attenzione quando passate oggetti come le liste!"
      ],
      "metadata": {
        "id": "vYcOvYTxgSJf"
      }
    },
    {
      "cell_type": "code",
      "source": [
        "def fun3(c, d, l):\n",
        "  l += [c*d, int(c/d), round(c/d, 2)]\n",
        "  return l\n",
        "\n",
        "l = [2, 4, 6]\n",
        "print('Lista l prima di fun2 = ' + str(l))\n",
        "c = 10\n",
        "d = 3\n",
        "fun3(c, d, l)\n",
        "print('Lista l dopo fun2 = ' + str(l))"
      ],
      "metadata": {
        "id": "TX98FMgNUEa5",
        "colab": {
          "base_uri": "https://localhost:8080/"
        },
        "outputId": "daaf095c-e81d-4535-9770-2c499912a542"
      },
      "execution_count": null,
      "outputs": [
        {
          "output_type": "stream",
          "name": "stdout",
          "text": [
            "Lista l prima di fun2 = [2, 4, 6]\n",
            "Lista l dopo fun2 = [2, 4, 6, 30, 3, 3.33]\n"
          ]
        }
      ]
    },
    {
      "cell_type": "code",
      "source": [],
      "metadata": {
        "id": "VJ6HBJnFUhjW"
      },
      "execution_count": null,
      "outputs": []
    }
  ]
}